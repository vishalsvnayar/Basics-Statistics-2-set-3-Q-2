{
 "cells": [
  {
   "cell_type": "markdown",
   "id": "c45d647b",
   "metadata": {},
   "source": [
    "**Q2**.PC Magazine asked all of its readers to participate in a survey of their satisfaction with different brands of electronics. In the 2004 survey, which was included in an issue of the magazine that year, more than 9000 readers rated the products on a scale from 1 to 10. The magazine reported that the average rating assigned by 225 readers to a Kodak compact digital camera was 7.5. For this product, identify the following:\n",
    "\n",
    "A.The population\n",
    "\n",
    "**Ans**:Readers of magazine 9000\n",
    "\n",
    "B.The parameter of interest\n",
    "\n",
    "**Ans**:Ratings of camera 7.5\n",
    "\n",
    "C.The sampling frame\n",
    "\n",
    "**Ans**:Sampling frame:All readers of the issue where the survey was included.\n",
    "\n",
    "D.The sample size\n",
    "\n",
    "**Ans**:225\n",
    "\n",
    "E.The sampling design\n",
    "\n",
    "**Ans**:Voluntary Response\n",
    "\n",
    "F.Any potential sources of bias or other problems with the survey or sample\n",
    "\n",
    "**Ans**:It is possible that only those who were particularly pleased or only who are displeased with the product participated in the survey which can makes the result unreliable\n"
   ]
  },
  {
   "cell_type": "code",
   "execution_count": null,
   "id": "b01caba6",
   "metadata": {},
   "outputs": [],
   "source": []
  }
 ],
 "metadata": {
  "kernelspec": {
   "display_name": "Python 3 (ipykernel)",
   "language": "python",
   "name": "python3"
  },
  "language_info": {
   "codemirror_mode": {
    "name": "ipython",
    "version": 3
   },
   "file_extension": ".py",
   "mimetype": "text/x-python",
   "name": "python",
   "nbconvert_exporter": "python",
   "pygments_lexer": "ipython3",
   "version": "3.9.7"
  }
 },
 "nbformat": 4,
 "nbformat_minor": 5
}
